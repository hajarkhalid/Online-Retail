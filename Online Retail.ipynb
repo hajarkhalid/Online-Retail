{
 "cells": [
  {
   "cell_type": "code",
   "execution_count": 3,
   "id": "c2674774",
   "metadata": {},
   "outputs": [],
   "source": [
    "import pandas as pd \n",
    "import numpy as np \n",
    "import seaborn as sns \n",
    "import matplotlib.pyplot as plt\n",
    "import matplotlib.dates as mdates\n",
    "from matplotlib.dates import DateFormatter\n",
    "\n",
    "import mlxtend\n",
    "from mlxtend.frequent_patterns import apriori, association_rules\n",
    "from sklearn.preprocessing import StandardScaler\n",
    "from sklearn.cluster import KMeans\n",
    "from sklearn.metrics import silhouette_samples, silhouette_score\n",
    "\n",
    "\n",
    "from time import mktime\n",
    "import matplotlib.ticker as mticker\n"
   ]
  },
  {
   "cell_type": "code",
   "execution_count": 4,
   "id": "5130008a",
   "metadata": {},
   "outputs": [],
   "source": [
    "online_Retail = pd.read_excel(r'D:\\Online Retail Data Set.xlsx')"
   ]
  },
  {
   "cell_type": "code",
   "execution_count": 7,
   "id": "0b5e529e",
   "metadata": {},
   "outputs": [
    {
     "data": {
      "text/plain": [
       "<bound method DataFrame.info of        InvoiceNo StockCode                          Description  Quantity  \\\n",
       "0         536365    85123A   WHITE HANGING HEART T-LIGHT HOLDER         6   \n",
       "1         536365     71053                  WHITE METAL LANTERN         6   \n",
       "2         536365    84406B       CREAM CUPID HEARTS COAT HANGER         8   \n",
       "3         536365    84029G  KNITTED UNION FLAG HOT WATER BOTTLE         6   \n",
       "4         536365    84029E       RED WOOLLY HOTTIE WHITE HEART.         6   \n",
       "...          ...       ...                                  ...       ...   \n",
       "541904    581587     22613          PACK OF 20 SPACEBOY NAPKINS        12   \n",
       "541905    581587     22899         CHILDREN'S APRON DOLLY GIRL          6   \n",
       "541906    581587     23254        CHILDRENS CUTLERY DOLLY GIRL          4   \n",
       "541907    581587     23255      CHILDRENS CUTLERY CIRCUS PARADE         4   \n",
       "541908    581587     22138        BAKING SET 9 PIECE RETROSPOT          3   \n",
       "\n",
       "               InvoiceDate  UnitPrice  CustomerID         Country  \n",
       "0      2010-12-01 08:26:00       2.55     17850.0  United Kingdom  \n",
       "1      2010-12-01 08:26:00       3.39     17850.0  United Kingdom  \n",
       "2      2010-12-01 08:26:00       2.75     17850.0  United Kingdom  \n",
       "3      2010-12-01 08:26:00       3.39     17850.0  United Kingdom  \n",
       "4      2010-12-01 08:26:00       3.39     17850.0  United Kingdom  \n",
       "...                    ...        ...         ...             ...  \n",
       "541904 2011-12-09 12:50:00       0.85     12680.0          France  \n",
       "541905 2011-12-09 12:50:00       2.10     12680.0          France  \n",
       "541906 2011-12-09 12:50:00       4.15     12680.0          France  \n",
       "541907 2011-12-09 12:50:00       4.15     12680.0          France  \n",
       "541908 2011-12-09 12:50:00       4.95     12680.0          France  \n",
       "\n",
       "[541909 rows x 8 columns]>"
      ]
     },
     "execution_count": 7,
     "metadata": {},
     "output_type": "execute_result"
    }
   ],
   "source": [
    "online_Retail.info"
   ]
  },
  {
   "cell_type": "code",
   "execution_count": 8,
   "id": "98f7c09f",
   "metadata": {},
   "outputs": [
    {
     "data": {
      "text/plain": [
       "(541909, 8)"
      ]
     },
     "execution_count": 8,
     "metadata": {},
     "output_type": "execute_result"
    }
   ],
   "source": [
    "online_Retail.shape"
   ]
  },
  {
   "cell_type": "code",
   "execution_count": 8,
   "id": "817a51f1",
   "metadata": {},
   "outputs": [],
   "source": [
    "online_Retail['Total_Sales'] = online_Retail['UnitPrice'] *online_Retail['Quantity']"
   ]
  },
  {
   "cell_type": "code",
   "execution_count": 9,
   "id": "5acfe59b",
   "metadata": {},
   "outputs": [
    {
     "data": {
      "text/html": [
       "<div>\n",
       "<style scoped>\n",
       "    .dataframe tbody tr th:only-of-type {\n",
       "        vertical-align: middle;\n",
       "    }\n",
       "\n",
       "    .dataframe tbody tr th {\n",
       "        vertical-align: top;\n",
       "    }\n",
       "\n",
       "    .dataframe thead th {\n",
       "        text-align: right;\n",
       "    }\n",
       "</style>\n",
       "<table border=\"1\" class=\"dataframe\">\n",
       "  <thead>\n",
       "    <tr style=\"text-align: right;\">\n",
       "      <th></th>\n",
       "      <th>InvoiceNo</th>\n",
       "      <th>StockCode</th>\n",
       "      <th>Description</th>\n",
       "      <th>Quantity</th>\n",
       "      <th>InvoiceDate</th>\n",
       "      <th>UnitPrice</th>\n",
       "      <th>CustomerID</th>\n",
       "      <th>Country</th>\n",
       "      <th>Total_Sales</th>\n",
       "    </tr>\n",
       "  </thead>\n",
       "  <tbody>\n",
       "    <tr>\n",
       "      <th>0</th>\n",
       "      <td>536365</td>\n",
       "      <td>85123A</td>\n",
       "      <td>WHITE HANGING HEART T-LIGHT HOLDER</td>\n",
       "      <td>6</td>\n",
       "      <td>2010-12-01 08:26:00</td>\n",
       "      <td>2.55</td>\n",
       "      <td>17850.0</td>\n",
       "      <td>United Kingdom</td>\n",
       "      <td>15.30</td>\n",
       "    </tr>\n",
       "    <tr>\n",
       "      <th>1</th>\n",
       "      <td>536365</td>\n",
       "      <td>71053</td>\n",
       "      <td>WHITE METAL LANTERN</td>\n",
       "      <td>6</td>\n",
       "      <td>2010-12-01 08:26:00</td>\n",
       "      <td>3.39</td>\n",
       "      <td>17850.0</td>\n",
       "      <td>United Kingdom</td>\n",
       "      <td>20.34</td>\n",
       "    </tr>\n",
       "    <tr>\n",
       "      <th>2</th>\n",
       "      <td>536365</td>\n",
       "      <td>84406B</td>\n",
       "      <td>CREAM CUPID HEARTS COAT HANGER</td>\n",
       "      <td>8</td>\n",
       "      <td>2010-12-01 08:26:00</td>\n",
       "      <td>2.75</td>\n",
       "      <td>17850.0</td>\n",
       "      <td>United Kingdom</td>\n",
       "      <td>22.00</td>\n",
       "    </tr>\n",
       "    <tr>\n",
       "      <th>3</th>\n",
       "      <td>536365</td>\n",
       "      <td>84029G</td>\n",
       "      <td>KNITTED UNION FLAG HOT WATER BOTTLE</td>\n",
       "      <td>6</td>\n",
       "      <td>2010-12-01 08:26:00</td>\n",
       "      <td>3.39</td>\n",
       "      <td>17850.0</td>\n",
       "      <td>United Kingdom</td>\n",
       "      <td>20.34</td>\n",
       "    </tr>\n",
       "    <tr>\n",
       "      <th>4</th>\n",
       "      <td>536365</td>\n",
       "      <td>84029E</td>\n",
       "      <td>RED WOOLLY HOTTIE WHITE HEART.</td>\n",
       "      <td>6</td>\n",
       "      <td>2010-12-01 08:26:00</td>\n",
       "      <td>3.39</td>\n",
       "      <td>17850.0</td>\n",
       "      <td>United Kingdom</td>\n",
       "      <td>20.34</td>\n",
       "    </tr>\n",
       "  </tbody>\n",
       "</table>\n",
       "</div>"
      ],
      "text/plain": [
       "  InvoiceNo StockCode                          Description  Quantity  \\\n",
       "0    536365    85123A   WHITE HANGING HEART T-LIGHT HOLDER         6   \n",
       "1    536365     71053                  WHITE METAL LANTERN         6   \n",
       "2    536365    84406B       CREAM CUPID HEARTS COAT HANGER         8   \n",
       "3    536365    84029G  KNITTED UNION FLAG HOT WATER BOTTLE         6   \n",
       "4    536365    84029E       RED WOOLLY HOTTIE WHITE HEART.         6   \n",
       "\n",
       "          InvoiceDate  UnitPrice  CustomerID         Country  Total_Sales  \n",
       "0 2010-12-01 08:26:00       2.55     17850.0  United Kingdom        15.30  \n",
       "1 2010-12-01 08:26:00       3.39     17850.0  United Kingdom        20.34  \n",
       "2 2010-12-01 08:26:00       2.75     17850.0  United Kingdom        22.00  \n",
       "3 2010-12-01 08:26:00       3.39     17850.0  United Kingdom        20.34  \n",
       "4 2010-12-01 08:26:00       3.39     17850.0  United Kingdom        20.34  "
      ]
     },
     "execution_count": 9,
     "metadata": {},
     "output_type": "execute_result"
    }
   ],
   "source": [
    "online_Retail.head()"
   ]
  },
  {
   "cell_type": "code",
   "execution_count": 10,
   "id": "4526d11e",
   "metadata": {},
   "outputs": [
    {
     "name": "stdout",
     "output_type": "stream",
     "text": [
      "Min:2010-12-01 08:26:00; Max:2011-12-09 12:50:00\n"
     ]
    }
   ],
   "source": [
    "print('Min:{}; Max:{}'.format(min(online_Retail.InvoiceDate), max(online_Retail.InvoiceDate)))\n"
   ]
  },
  {
   "cell_type": "code",
   "execution_count": 11,
   "id": "b9677a06",
   "metadata": {},
   "outputs": [
    {
     "data": {
      "text/plain": [
       "Timestamp('2011-12-10 12:50:00')"
      ]
     },
     "execution_count": 11,
     "metadata": {},
     "output_type": "execute_result"
    }
   ],
   "source": [
    "import datetime\n",
    "snapshot_date = max(online_Retail.InvoiceDate) + datetime.timedelta(days = 1)\n",
    "snapshot_date"
   ]
  },
  {
   "cell_type": "code",
   "execution_count": 12,
   "id": "530b4680",
   "metadata": {},
   "outputs": [
    {
     "data": {
      "text/plain": [
       "InvoiceNo           0\n",
       "StockCode           0\n",
       "Description      1454\n",
       "Quantity            0\n",
       "InvoiceDate         0\n",
       "UnitPrice           0\n",
       "CustomerID     135080\n",
       "Country             0\n",
       "Total_Sales         0\n",
       "dtype: int64"
      ]
     },
     "execution_count": 12,
     "metadata": {},
     "output_type": "execute_result"
    }
   ],
   "source": [
    "online_Retail.isna().sum()"
   ]
  },
  {
   "cell_type": "code",
   "execution_count": 13,
   "id": "402208f6",
   "metadata": {},
   "outputs": [],
   "source": [
    "online_Retail['Description']= online_Retail['Description'].str.lower()"
   ]
  },
  {
   "cell_type": "code",
   "execution_count": 14,
   "id": "4e4b0833",
   "metadata": {},
   "outputs": [
    {
     "data": {
      "text/html": [
       "<div>\n",
       "<style scoped>\n",
       "    .dataframe tbody tr th:only-of-type {\n",
       "        vertical-align: middle;\n",
       "    }\n",
       "\n",
       "    .dataframe tbody tr th {\n",
       "        vertical-align: top;\n",
       "    }\n",
       "\n",
       "    .dataframe thead th {\n",
       "        text-align: right;\n",
       "    }\n",
       "</style>\n",
       "<table border=\"1\" class=\"dataframe\">\n",
       "  <thead>\n",
       "    <tr style=\"text-align: right;\">\n",
       "      <th></th>\n",
       "      <th>InvoiceNo</th>\n",
       "      <th>StockCode</th>\n",
       "      <th>Description</th>\n",
       "      <th>Quantity</th>\n",
       "      <th>InvoiceDate</th>\n",
       "      <th>UnitPrice</th>\n",
       "      <th>CustomerID</th>\n",
       "      <th>Country</th>\n",
       "      <th>Total_Sales</th>\n",
       "    </tr>\n",
       "  </thead>\n",
       "  <tbody>\n",
       "    <tr>\n",
       "      <th>0</th>\n",
       "      <td>536365</td>\n",
       "      <td>85123A</td>\n",
       "      <td>white hanging heart t-light holder</td>\n",
       "      <td>6</td>\n",
       "      <td>2010-12-01 08:26:00</td>\n",
       "      <td>2.55</td>\n",
       "      <td>17850.0</td>\n",
       "      <td>United Kingdom</td>\n",
       "      <td>15.30</td>\n",
       "    </tr>\n",
       "    <tr>\n",
       "      <th>1</th>\n",
       "      <td>536365</td>\n",
       "      <td>71053</td>\n",
       "      <td>white metal lantern</td>\n",
       "      <td>6</td>\n",
       "      <td>2010-12-01 08:26:00</td>\n",
       "      <td>3.39</td>\n",
       "      <td>17850.0</td>\n",
       "      <td>United Kingdom</td>\n",
       "      <td>20.34</td>\n",
       "    </tr>\n",
       "    <tr>\n",
       "      <th>2</th>\n",
       "      <td>536365</td>\n",
       "      <td>84406B</td>\n",
       "      <td>cream cupid hearts coat hanger</td>\n",
       "      <td>8</td>\n",
       "      <td>2010-12-01 08:26:00</td>\n",
       "      <td>2.75</td>\n",
       "      <td>17850.0</td>\n",
       "      <td>United Kingdom</td>\n",
       "      <td>22.00</td>\n",
       "    </tr>\n",
       "    <tr>\n",
       "      <th>3</th>\n",
       "      <td>536365</td>\n",
       "      <td>84029G</td>\n",
       "      <td>knitted union flag hot water bottle</td>\n",
       "      <td>6</td>\n",
       "      <td>2010-12-01 08:26:00</td>\n",
       "      <td>3.39</td>\n",
       "      <td>17850.0</td>\n",
       "      <td>United Kingdom</td>\n",
       "      <td>20.34</td>\n",
       "    </tr>\n",
       "    <tr>\n",
       "      <th>4</th>\n",
       "      <td>536365</td>\n",
       "      <td>84029E</td>\n",
       "      <td>red woolly hottie white heart.</td>\n",
       "      <td>6</td>\n",
       "      <td>2010-12-01 08:26:00</td>\n",
       "      <td>3.39</td>\n",
       "      <td>17850.0</td>\n",
       "      <td>United Kingdom</td>\n",
       "      <td>20.34</td>\n",
       "    </tr>\n",
       "  </tbody>\n",
       "</table>\n",
       "</div>"
      ],
      "text/plain": [
       "  InvoiceNo StockCode                          Description  Quantity  \\\n",
       "0    536365    85123A   white hanging heart t-light holder         6   \n",
       "1    536365     71053                  white metal lantern         6   \n",
       "2    536365    84406B       cream cupid hearts coat hanger         8   \n",
       "3    536365    84029G  knitted union flag hot water bottle         6   \n",
       "4    536365    84029E       red woolly hottie white heart.         6   \n",
       "\n",
       "          InvoiceDate  UnitPrice  CustomerID         Country  Total_Sales  \n",
       "0 2010-12-01 08:26:00       2.55     17850.0  United Kingdom        15.30  \n",
       "1 2010-12-01 08:26:00       3.39     17850.0  United Kingdom        20.34  \n",
       "2 2010-12-01 08:26:00       2.75     17850.0  United Kingdom        22.00  \n",
       "3 2010-12-01 08:26:00       3.39     17850.0  United Kingdom        20.34  \n",
       "4 2010-12-01 08:26:00       3.39     17850.0  United Kingdom        20.34  "
      ]
     },
     "execution_count": 14,
     "metadata": {},
     "output_type": "execute_result"
    }
   ],
   "source": [
    "online_Retail.head()"
   ]
  },
  {
   "cell_type": "code",
   "execution_count": 15,
   "id": "f29e97d0",
   "metadata": {},
   "outputs": [
    {
     "data": {
      "text/html": [
       "<div>\n",
       "<style scoped>\n",
       "    .dataframe tbody tr th:only-of-type {\n",
       "        vertical-align: middle;\n",
       "    }\n",
       "\n",
       "    .dataframe tbody tr th {\n",
       "        vertical-align: top;\n",
       "    }\n",
       "\n",
       "    .dataframe thead th {\n",
       "        text-align: right;\n",
       "    }\n",
       "</style>\n",
       "<table border=\"1\" class=\"dataframe\">\n",
       "  <thead>\n",
       "    <tr style=\"text-align: right;\">\n",
       "      <th></th>\n",
       "      <th>Total_Sales</th>\n",
       "    </tr>\n",
       "    <tr>\n",
       "      <th>Country</th>\n",
       "      <th></th>\n",
       "    </tr>\n",
       "  </thead>\n",
       "  <tbody>\n",
       "    <tr>\n",
       "      <th>United Kingdom</th>\n",
       "      <td>8187806.364</td>\n",
       "    </tr>\n",
       "    <tr>\n",
       "      <th>Netherlands</th>\n",
       "      <td>284661.540</td>\n",
       "    </tr>\n",
       "    <tr>\n",
       "      <th>EIRE</th>\n",
       "      <td>263276.820</td>\n",
       "    </tr>\n",
       "    <tr>\n",
       "      <th>Germany</th>\n",
       "      <td>221698.210</td>\n",
       "    </tr>\n",
       "    <tr>\n",
       "      <th>France</th>\n",
       "      <td>197403.900</td>\n",
       "    </tr>\n",
       "    <tr>\n",
       "      <th>Australia</th>\n",
       "      <td>137077.270</td>\n",
       "    </tr>\n",
       "    <tr>\n",
       "      <th>Switzerland</th>\n",
       "      <td>56385.350</td>\n",
       "    </tr>\n",
       "    <tr>\n",
       "      <th>Spain</th>\n",
       "      <td>54774.580</td>\n",
       "    </tr>\n",
       "    <tr>\n",
       "      <th>Belgium</th>\n",
       "      <td>40910.960</td>\n",
       "    </tr>\n",
       "    <tr>\n",
       "      <th>Sweden</th>\n",
       "      <td>36595.910</td>\n",
       "    </tr>\n",
       "  </tbody>\n",
       "</table>\n",
       "</div>"
      ],
      "text/plain": [
       "                Total_Sales\n",
       "Country                    \n",
       "United Kingdom  8187806.364\n",
       "Netherlands      284661.540\n",
       "EIRE             263276.820\n",
       "Germany          221698.210\n",
       "France           197403.900\n",
       "Australia        137077.270\n",
       "Switzerland       56385.350\n",
       "Spain             54774.580\n",
       "Belgium           40910.960\n",
       "Sweden            36595.910"
      ]
     },
     "execution_count": 15,
     "metadata": {},
     "output_type": "execute_result"
    }
   ],
   "source": [
    "Retail_country = online_Retail.groupby('Country').agg({'Total_Sales':'sum'}).sort_values(by='Total_Sales', ascending = False)\n",
    "Retail_country.head(10)"
   ]
  },
  {
   "cell_type": "code",
   "execution_count": 26,
   "id": "f5665916",
   "metadata": {},
   "outputs": [
    {
     "data": {
      "image/png": "[encoded data removed]",
      "text/plain": [
       "<Figure size 1008x360 with 1 Axes>"
      ]
     },
     "metadata": {},
     "output_type": "display_data"
    }
   ],
   "source": [
    "plt.figure(figsize=(14, 5))\n",
    "sns.barplot(data=online_Retail,\n",
    "            x=\"Country\",\n",
    "            y=\"Total_Sales\",\n",
    "            palette = \"muted\"\n",
    "           )\n",
    "\n",
    "plt.title(\"The best countries incur sales \")\n",
    "plt.show()\n"
   ]
  },
  {
   "cell_type": "code",
   "execution_count": 27,
   "id": "84f614bb",
   "metadata": {},
   "outputs": [
    {
     "data": {
      "text/html": [
       "<div>\n",
       "<style scoped>\n",
       "    .dataframe tbody tr th:only-of-type {\n",
       "        vertical-align: middle;\n",
       "    }\n",
       "\n",
       "    .dataframe tbody tr th {\n",
       "        vertical-align: top;\n",
       "    }\n",
       "\n",
       "    .dataframe thead th {\n",
       "        text-align: right;\n",
       "    }\n",
       "</style>\n",
       "<table border=\"1\" class=\"dataframe\">\n",
       "  <thead>\n",
       "    <tr style=\"text-align: right;\">\n",
       "      <th></th>\n",
       "      <th>Quantity</th>\n",
       "      <th>Total_Sales</th>\n",
       "    </tr>\n",
       "    <tr>\n",
       "      <th>Description</th>\n",
       "      <th></th>\n",
       "      <th></th>\n",
       "    </tr>\n",
       "  </thead>\n",
       "  <tbody>\n",
       "    <tr>\n",
       "      <th>world war 2 gliders asstd designs</th>\n",
       "      <td>53847</td>\n",
       "      <td>13587.93</td>\n",
       "    </tr>\n",
       "    <tr>\n",
       "      <th>jumbo bag red retrospot</th>\n",
       "      <td>47363</td>\n",
       "      <td>92356.03</td>\n",
       "    </tr>\n",
       "    <tr>\n",
       "      <th>assorted colour bird ornament</th>\n",
       "      <td>36381</td>\n",
       "      <td>58959.73</td>\n",
       "    </tr>\n",
       "    <tr>\n",
       "      <th>popcorn holder</th>\n",
       "      <td>36334</td>\n",
       "      <td>33969.46</td>\n",
       "    </tr>\n",
       "    <tr>\n",
       "      <th>pack of 72 retrospot cake cases</th>\n",
       "      <td>36039</td>\n",
       "      <td>21059.72</td>\n",
       "    </tr>\n",
       "    <tr>\n",
       "      <th>white hanging heart t-light holder</th>\n",
       "      <td>35317</td>\n",
       "      <td>99668.47</td>\n",
       "    </tr>\n",
       "    <tr>\n",
       "      <th>rabbit night light</th>\n",
       "      <td>30680</td>\n",
       "      <td>66756.59</td>\n",
       "    </tr>\n",
       "    <tr>\n",
       "      <th>mini paint set vintage</th>\n",
       "      <td>26437</td>\n",
       "      <td>16810.42</td>\n",
       "    </tr>\n",
       "    <tr>\n",
       "      <th>pack of 12 london tissues</th>\n",
       "      <td>26315</td>\n",
       "      <td>7972.76</td>\n",
       "    </tr>\n",
       "    <tr>\n",
       "      <th>pack of 60 pink paisley cake cases</th>\n",
       "      <td>24753</td>\n",
       "      <td>12189.47</td>\n",
       "    </tr>\n",
       "  </tbody>\n",
       "</table>\n",
       "</div>"
      ],
      "text/plain": [
       "                                    Quantity  Total_Sales\n",
       "Description                                              \n",
       "world war 2 gliders asstd designs      53847     13587.93\n",
       "jumbo bag red retrospot                47363     92356.03\n",
       "assorted colour bird ornament          36381     58959.73\n",
       "popcorn holder                         36334     33969.46\n",
       "pack of 72 retrospot cake cases        36039     21059.72\n",
       "white hanging heart t-light holder     35317     99668.47\n",
       "rabbit night light                     30680     66756.59\n",
       "mini paint set vintage                 26437     16810.42\n",
       "pack of 12 london tissues              26315      7972.76\n",
       "pack of 60 pink paisley cake cases     24753     12189.47"
      ]
     },
     "execution_count": 27,
     "metadata": {},
     "output_type": "execute_result"
    }
   ],
   "source": [
    "best_product = online_Retail.groupby('Description').agg({'Quantity':'sum', 'Total_Sales':'sum'})\n",
    "best_product.sort_values(by ='Quantity', ascending = False).head(10)"
   ]
  },
  {
   "cell_type": "code",
   "execution_count": 28,
   "id": "e1938cf6",
   "metadata": {},
   "outputs": [
    {
     "data": {
      "image/png": "[encoded data removed]",
      "text/plain": [
       "<Figure size 1008x360 with 1 Axes>"
      ]
     },
     "metadata": {},
     "output_type": "display_data"
    }
   ],
   "source": [
    "plt.figure(figsize=(14, 5))\n",
    "sns.barplot(data=online_Retail,\n",
    "            x=\"Description\",\n",
    "            y=\"Quantity\",\n",
    "            palette = \"muted\"\n",
    "           )\n",
    "plt.xlabel(\"Quantity\", fontsize=12)\n",
    "plt.ylabel(\"Description\", fontsize=12)\n",
    "plt.title(\"The most popular goods (TOP-30)\", fontsize=14)\n",
    "\n",
    "plt.show()"
   ]
  },
  {
   "cell_type": "code",
   "execution_count": 29,
   "id": "d36bfb13",
   "metadata": {},
   "outputs": [
    {
     "data": {
      "text/html": [
       "<div>\n",
       "<style scoped>\n",
       "    .dataframe tbody tr th:only-of-type {\n",
       "        vertical-align: middle;\n",
       "    }\n",
       "\n",
       "    .dataframe tbody tr th {\n",
       "        vertical-align: top;\n",
       "    }\n",
       "\n",
       "    .dataframe thead th {\n",
       "        text-align: right;\n",
       "    }\n",
       "</style>\n",
       "<table border=\"1\" class=\"dataframe\">\n",
       "  <thead>\n",
       "    <tr style=\"text-align: right;\">\n",
       "      <th></th>\n",
       "      <th></th>\n",
       "      <th>Quantity</th>\n",
       "      <th>Total_Sales</th>\n",
       "    </tr>\n",
       "    <tr>\n",
       "      <th>Description</th>\n",
       "      <th>Country</th>\n",
       "      <th></th>\n",
       "      <th></th>\n",
       "    </tr>\n",
       "  </thead>\n",
       "  <tbody>\n",
       "    <tr>\n",
       "      <th>world war 2 gliders asstd designs</th>\n",
       "      <th>United Kingdom</th>\n",
       "      <td>48326</td>\n",
       "      <td>12055.96</td>\n",
       "    </tr>\n",
       "    <tr>\n",
       "      <th>jumbo bag red retrospot</th>\n",
       "      <th>United Kingdom</th>\n",
       "      <td>43167</td>\n",
       "      <td>84516.44</td>\n",
       "    </tr>\n",
       "    <tr>\n",
       "      <th>popcorn holder</th>\n",
       "      <th>United Kingdom</th>\n",
       "      <td>34365</td>\n",
       "      <td>32425.81</td>\n",
       "    </tr>\n",
       "    <tr>\n",
       "      <th>assorted colour bird ornament</th>\n",
       "      <th>United Kingdom</th>\n",
       "      <td>33679</td>\n",
       "      <td>54662.15</td>\n",
       "    </tr>\n",
       "    <tr>\n",
       "      <th>white hanging heart t-light holder</th>\n",
       "      <th>United Kingdom</th>\n",
       "      <td>33193</td>\n",
       "      <td>93953.07</td>\n",
       "    </tr>\n",
       "    <tr>\n",
       "      <th>pack of 12 london tissues</th>\n",
       "      <th>United Kingdom</th>\n",
       "      <td>25307</td>\n",
       "      <td>7639.64</td>\n",
       "    </tr>\n",
       "    <tr>\n",
       "      <th>pack of 72 retrospot cake cases</th>\n",
       "      <th>United Kingdom</th>\n",
       "      <td>24702</td>\n",
       "      <td>15607.49</td>\n",
       "    </tr>\n",
       "    <tr>\n",
       "      <th>victorian glass hanging t-light</th>\n",
       "      <th>United Kingdom</th>\n",
       "      <td>23242</td>\n",
       "      <td>31683.17</td>\n",
       "    </tr>\n",
       "    <tr>\n",
       "      <th>brocade ring purse</th>\n",
       "      <th>United Kingdom</th>\n",
       "      <td>22801</td>\n",
       "      <td>5785.47</td>\n",
       "    </tr>\n",
       "    <tr>\n",
       "      <th>assorted colours silk fan</th>\n",
       "      <th>United Kingdom</th>\n",
       "      <td>20322</td>\n",
       "      <td>16034.24</td>\n",
       "    </tr>\n",
       "  </tbody>\n",
       "</table>\n",
       "</div>"
      ],
      "text/plain": [
       "                                                   Quantity  Total_Sales\n",
       "Description                        Country                              \n",
       "world war 2 gliders asstd designs  United Kingdom     48326     12055.96\n",
       "jumbo bag red retrospot            United Kingdom     43167     84516.44\n",
       "popcorn holder                     United Kingdom     34365     32425.81\n",
       "assorted colour bird ornament      United Kingdom     33679     54662.15\n",
       "white hanging heart t-light holder United Kingdom     33193     93953.07\n",
       "pack of 12 london tissues          United Kingdom     25307      7639.64\n",
       "pack of 72 retrospot cake cases    United Kingdom     24702     15607.49\n",
       "victorian glass hanging t-light    United Kingdom     23242     31683.17\n",
       "brocade ring purse                 United Kingdom     22801      5785.47\n",
       "assorted colours silk fan          United Kingdom     20322     16034.24"
      ]
     },
     "execution_count": 29,
     "metadata": {},
     "output_type": "execute_result"
    }
   ],
   "source": [
    "best_product_country = online_Retail.groupby(['Description','Country']).agg({'Quantity':'sum', 'Total_Sales':'sum'}).sort_values(by ='Quantity', ascending = False)\n",
    "best_product_country.head(10)"
   ]
  },
  {
   "cell_type": "code",
   "execution_count": 30,
   "id": "1e97cbff",
   "metadata": {},
   "outputs": [
    {
     "ename": "NameError",
     "evalue": "name 'Date_product' is not defined",
     "output_type": "error",
     "traceback": [
      "\u001b[1;31m---------------------------------------------------------------------------\u001b[0m",
      "\u001b[1;31mNameError\u001b[0m                                 Traceback (most recent call last)",
      "\u001b[1;32m~\\AppData\\Local\\Temp/ipykernel_8772/260989343.py\u001b[0m in \u001b[0;36m<module>\u001b[1;34m\u001b[0m\n\u001b[0;32m      1\u001b[0m \u001b[0mplt\u001b[0m\u001b[1;33m.\u001b[0m\u001b[0mstyle\u001b[0m\u001b[1;33m.\u001b[0m\u001b[0muse\u001b[0m\u001b[1;33m(\u001b[0m\u001b[1;34m'seaborn'\u001b[0m\u001b[1;33m)\u001b[0m\u001b[1;33m\u001b[0m\u001b[1;33m\u001b[0m\u001b[0m\n\u001b[1;32m----> 2\u001b[1;33m \u001b[0mfig\u001b[0m \u001b[1;33m=\u001b[0m \u001b[0mDate_product\u001b[0m\u001b[1;33m.\u001b[0m\u001b[0mplot\u001b[0m\u001b[1;33m(\u001b[0m\u001b[0mfigsize\u001b[0m\u001b[1;33m=\u001b[0m\u001b[1;33m(\u001b[0m\u001b[1;36m18\u001b[0m\u001b[1;33m,\u001b[0m\u001b[1;36m8\u001b[0m\u001b[1;33m)\u001b[0m\u001b[1;33m)\u001b[0m\u001b[1;33m\u001b[0m\u001b[1;33m\u001b[0m\u001b[0m\n\u001b[0m\u001b[0;32m      3\u001b[0m \u001b[0mplt\u001b[0m\u001b[1;33m.\u001b[0m\u001b[0mylabel\u001b[0m\u001b[1;33m(\u001b[0m\u001b[1;34m\"Total_Sales\"\u001b[0m\u001b[1;33m,\u001b[0m\u001b[1;33m{\u001b[0m\u001b[1;34m'fontsize'\u001b[0m\u001b[1;33m:\u001b[0m\u001b[1;36m15\u001b[0m\u001b[1;33m}\u001b[0m\u001b[1;33m)\u001b[0m\u001b[1;33m\u001b[0m\u001b[1;33m\u001b[0m\u001b[0m\n\u001b[0;32m      4\u001b[0m \u001b[0max\u001b[0m \u001b[1;33m=\u001b[0m \u001b[0mplt\u001b[0m\u001b[1;33m.\u001b[0m\u001b[0mgca\u001b[0m\u001b[1;33m(\u001b[0m\u001b[1;33m)\u001b[0m\u001b[1;33m\u001b[0m\u001b[1;33m\u001b[0m\u001b[0m\n\u001b[0;32m      5\u001b[0m \u001b[0max\u001b[0m\u001b[1;33m.\u001b[0m\u001b[0mxaxis\u001b[0m\u001b[1;33m.\u001b[0m\u001b[0mset_major_locator\u001b[0m\u001b[1;33m(\u001b[0m\u001b[0mmdates\u001b[0m\u001b[1;33m.\u001b[0m\u001b[0mMonthLocator\u001b[0m\u001b[1;33m(\u001b[0m\u001b[1;33m)\u001b[0m\u001b[1;33m)\u001b[0m\u001b[1;33m\u001b[0m\u001b[1;33m\u001b[0m\u001b[0m\n",
      "\u001b[1;31mNameError\u001b[0m: name 'Date_product' is not defined"
     ]
    }
   ],
   "source": [
    "plt.style.use('seaborn')\n",
    "fig = Date_product.plot(figsize=(18,8))\n",
    "plt.ylabel(\"Total_Sales\",{'fontsize':15})\n",
    "ax = plt.gca()\n",
    "ax.xaxis.set_major_locator(mdates.MonthLocator())\n",
    "ax.xaxis.set_minor_locator(mdates.MonthLocator(bymonthday=15))\n",
    "ax.xaxis.set_major_formatter(mticker.NullFormatter())\n",
    "ax.xaxis.set_minor_formatter(mdates.DateFormatter(\"%b-%y\"))"
   ]
  },
  {
   "cell_type": "code",
   "execution_count": null,
   "id": "830dbe6e",
   "metadata": {},
   "outputs": [],
   "source": [
    "Date_product_df = pd.DataFrame(online_Retail.groupby(['InvoiceDate']).agg({'Quantity':'sum', 'Total_Sales':'sum'}).sort_values(by ='Quantity', ascending = False))\n",
    "Date_product_df"
   ]
  },
  {
   "cell_type": "code",
   "execution_count": null,
   "id": "a02317fa",
   "metadata": {},
   "outputs": [],
   "source": [
    "plt.style.use('seaborn')\n",
    "fig = Date_product_df.plot(figsize=(18,8))\n",
    "plt.ylabel(\"Total Sales\",{'fontsize':15})\n",
    "ax = plt.gca()\n",
    "plt.title(\"sales over time \")\n",
    "plt.plot(\"InvoiceDate\",\"Total_Sales\" , color = 'green')\n",
    "\n",
    "ax.xaxis.set_major_locator(mdates.MonthLocator())\n",
    "ax.xaxis.set_minor_locator(mdates.MonthLocator(bymonthday=15))\n",
    "ax.xaxis.set_major_formatter(mticker.NullFormatter())\n",
    "ax.xaxis.set_minor_formatter(mdates.DateFormatter(\"%y\"))"
   ]
  },
  {
   "cell_type": "code",
   "execution_count": null,
   "id": "f68589d5",
   "metadata": {},
   "outputs": [],
   "source": [
    "december = pd.DataFrame({'Date' : pd.date_range(start='2018-12-01', end='2018-12-31'),'sales' : np.zeros((31))}).set_index('Date')\n"
   ]
  },
  {
   "cell_type": "code",
   "execution_count": null,
   "id": "0cf5b7d2",
   "metadata": {},
   "outputs": [],
   "source": [
    "december.sales = Date_product_df.loc[[i for i in december.index if i in Date_product_df.index]]\n",
    "december.fillna(0,inplace=True)"
   ]
  },
  {
   "cell_type": "code",
   "execution_count": null,
   "id": "cac0356e",
   "metadata": {},
   "outputs": [],
   "source": [
    "temp_data = online_Retail.copy()"
   ]
  },
  {
   "cell_type": "code",
   "execution_count": null,
   "id": "1dc4e980",
   "metadata": {},
   "outputs": [],
   "source": [
    "def get_date_int(df, column):\n",
    "    \"\"\"Extract year, month, and day integer values\n",
    "        \n",
    "    Args:\n",
    "        arg_1 (df):\n",
    "        arg_2 (str): column name with datetime values\n",
    "    \n",
    "    Returns:\n",
    "        int(year), int(months), int(days)\n",
    "    \"\"\"\n",
    "    year = df[column].dt.year\n",
    "    month = df[column].dt.month\n",
    "    day = df[column].dt.day\n",
    "    quarter = df[column].dt.quarter\n",
    "    dayofWeek =df[column].dt.dayofweek\n",
    "    return year, month, day, quarter, dayofweek"
   ]
  },
  {
   "cell_type": "code",
   "execution_count": null,
   "id": "3b151bd8",
   "metadata": {},
   "outputs": [],
   "source": [
    "#Mapping day of week\n",
    "dayofweek_mapping = dict({0: \"Monday\", \n",
    "                         1: \"Tuesday\", \n",
    "                         2: \"Wednesday\" , \n",
    "                         3: \"Thursday\", \n",
    "                         4: \"Friday\", \n",
    "                         5: \"Saturday\", \n",
    "                         6: \"Sunday\"})\n"
   ]
  },
  {
   "cell_type": "code",
   "execution_count": null,
   "id": "964da98b",
   "metadata": {},
   "outputs": [],
   "source": [
    "#renaming the data values using map function\n",
    "temp_data[\"Day of Week\"] = temp_data[\"dayofweek\"].map(dayofweek_mapping)\n"
   ]
  },
  {
   "cell_type": "code",
   "execution_count": null,
   "id": "8f84f2e9",
   "metadata": {},
   "outputs": [],
   "source": [
    "temp_data.groupby(\"DayofWeek\").sum()[\"Quantity\"].plot(kind = \"bar\", color = \"darkorange\")\n",
    "plt.title(\"Transactions by Day of Week\")\n",
    "plt.tight_layout()\n",
    "plt.show()"
   ]
  },
  {
   "cell_type": "code",
   "execution_count": null,
   "id": "81d8567f",
   "metadata": {},
   "outputs": [],
   "source": [
    "plt.subplot(3,2,4)\n",
    "sns.lineplot(x = \"Day\", y = \"Quantity\", data = temp_data.groupby(\"Day\").sum(\"Quantity\"), marker = \"o\", )\n",
    "plt.axvline(30, color = 'r', linestyle = '--')\n",
    "plt.axvline(30, color = 'k', linestyle = \"dotted\")\n",
    "plt.title(\"Transactions by Day\")\n"
   ]
  },
  {
   "cell_type": "code",
   "execution_count": null,
   "id": "6df76d97",
   "metadata": {},
   "outputs": [],
   "source": [
    "plt.subplot(3,2,2)\n",
    "temp_data.groupby(\"Year\").sum()[\"Quantity\"].plot(kind = \"bar\")\n",
    "plt.title(\"Transactions by Year\")\n",
    "plt.subplot(3,2,3)\n",
    "temp_data.groupby(\"Quarter\").sum()[\"Quantity\"].plot(kind = \"bar\", color = \"darkslategrey\")\n",
    "plt.title(\"Transactions by Quarter\")\n"
   ]
  },
  {
   "cell_type": "code",
   "execution_count": null,
   "id": "20bd4733",
   "metadata": {},
   "outputs": [],
   "source": [
    "#Plotting the above data\n",
    "plt.figure(figsize=(16,12))\n",
    "plt.subplot(3,2,1)\n",
    "sns.lineplot(x = \"Month\", y = \"Quantity\", data = temp_data.groupby(\"Month\").sum(\"Quantity\"), marker = \"o\", color = \"lightseagreen\")\n",
    "plt.axvline(11, color = \"k\", linestyle = '--', alpha = 0.3)\n",
    "plt.text(8.50, 1.3e6, \"Most Transactions\")\n",
    "plt.title(\"Transactions by Month\")\n"
   ]
  },
  {
   "cell_type": "code",
   "execution_count": null,
   "id": "28fed130",
   "metadata": {},
   "outputs": [],
   "source": [
    "print(\"Total Number of Countries in 2009: {}\".format(len(temp_data[temp_data[\"Year\"] == 2009][\"Country\"].unique())))\n",
    "print(\"Total Number of Transactions in 2009: {}\".format(temp_data[temp_data[\"Year\"] == 2009][\"Quantity\"].sum()))\n",
    "print(\"--------------------------------------------\")\n",
    "print(\"Total Number of Countries in 2009: {}\".format(len(temp_data[temp_data[\"Year\"] == 2010][\"Country\"].unique())))\n",
    "print(\"Total Number of Transactions in 2009: {}\".format(temp_data[temp_data[\"Year\"] == 2010][\"Quantity\"].sum()))\n",
    "print(\"--------------------------------------------\")\n",
    "print(\"Total Number of Countries in 2009: {}\".format(len(temp_data[temp_data[\"Year\"] == 2011][\"Country\"].unique())))\n",
    "print(\"Total Number of Transactions in 2009: {}\".format(temp_data[temp_data[\"Year\"] == 2011][\"Quantity\"].sum()))\n"
   ]
  },
  {
   "cell_type": "code",
   "execution_count": null,
   "id": "03807d46",
   "metadata": {},
   "outputs": [],
   "source": [
    "_2009 = temp_data[temp_data[\"Year\"] == 2009][\"Country\"].unique()\n",
    "_2010 = temp_data[temp_data[\"Year\"] == 2010][\"Country\"].unique()\n",
    "_2011 = temp_data[temp_data[\"Year\"] == 2011][\"Country\"].unique()\n"
   ]
  },
  {
   "cell_type": "code",
   "execution_count": null,
   "id": "65040b36",
   "metadata": {},
   "outputs": [],
   "source": [
    "#checking for the countries which are available in  2010 and 2011 but not in 2009.\n",
    "\n",
    "no_cols = []\n",
    "\n",
    "for i in (_2010):\n",
    "    if i not in _2009:\n",
    "        no_cols.append(i)\n",
    "print(\"These are the values which are not present in 2009: {}\".format(no_cols))\n"
   ]
  },
  {
   "cell_type": "code",
   "execution_count": null,
   "id": "80ee0f6a",
   "metadata": {},
   "outputs": [],
   "source": [
    "online_Retail.groupby([\"Country\", \"Description\"]).sum()[\"Quantity\"]\n"
   ]
  },
  {
   "cell_type": "code",
   "execution_count": null,
   "id": "ebbe61f4",
   "metadata": {},
   "outputs": [],
   "source": [
    "temp = pd.DataFrame(temp_data)\n",
    "temp"
   ]
  },
  {
   "cell_type": "code",
   "execution_count": null,
   "id": "257c7dc8",
   "metadata": {},
   "outputs": [],
   "source": [
    "top_8_countries = [\"United Kingdom\", \"Netherlands\", \"EIRE\", \"Denmark\", \"Germany\", \"France\", \"Australia\", \"Sweden\"]\n",
    "top_8_countries"
   ]
  },
  {
   "cell_type": "code",
   "execution_count": null,
   "id": "26a81c9f",
   "metadata": {},
   "outputs": [],
   "source": [
    "x = 1\n",
    "plt.figure(figsize=(12,24))\n",
    "for x, c in enumerate(top_8_countries):\n",
    "    ax = plt.subplot(4,2, x+1)\n",
    "    plt.title(c + ' '+ \"Most Selling Products\")\n",
    "    temp.loc[c].sort_values(by = \"Quantity\", ascending = False)[\"Quantity\"].head(5).plot(kind = \"bar\", ax = ax, color = \"teal\", alpha = 0.6)\n",
    "    plt.tight_layout()\n"
   ]
  },
  {
   "cell_type": "code",
   "execution_count": null,
   "id": "06d4f80f",
   "metadata": {},
   "outputs": [],
   "source": [
    "least_8_country = [\"Saudi Arabia\", \"Nigeria\", \"Lebanon\", \"West Indies\", \"European Community\", \"Brazil\", \"Czech Republic\", \"Korea\"]\n"
   ]
  },
  {
   "cell_type": "code",
   "execution_count": null,
   "id": "89f4b73b",
   "metadata": {},
   "outputs": [],
   "source": [
    "x = 1\n",
    "plt.figure(figsize=(12,24))\n",
    "for x, c in enumerate(least_8_country):\n",
    "    ax = plt.subplot(4,2, x+1)\n",
    "    plt.title(c + ' '+ \"Most Selling Products\")\n",
    "    temp.loc[c].sort_values(by = \"Quantity\", ascending = False)[\"Quantity\"].head(5).plot(kind = \"bar\", ax = ax, color = \"sandybrown\", alpha = 0.8)\n",
    "    \n",
    "    plt.tight_layout()"
   ]
  },
  {
   "cell_type": "code",
   "execution_count": null,
   "id": "106932a5",
   "metadata": {},
   "outputs": [],
   "source": [
    "#K-means Clustering"
   ]
  },
  {
   "cell_type": "code",
   "execution_count": null,
   "id": "b3edc4bd",
   "metadata": {},
   "outputs": [],
   "source": [
    "# Sample the dataset\n",
    "online_Retail_selected = online_Retail.sample(10000, random_state = 0)\n",
    "online_Retail_selected.info()"
   ]
  },
  {
   "cell_type": "code",
   "execution_count": null,
   "id": "c13bce5b",
   "metadata": {},
   "outputs": [],
   "source": [
    "from sklearn.preprocessing import MinMaxScaler\n",
    "min_max_scaler = MinMaxScaler((0,1))\n",
    "x_scaled = min_max_scaler.fit_transform(rfm_table)\n",
    "data_scaled = pd.DataFrame(x_scaled)\n"
   ]
  },
  {
   "cell_type": "code",
   "execution_count": null,
   "id": "3186c4b7",
   "metadata": {},
   "outputs": [],
   "source": [
    "# creating a list to store the within-the-cluster-sum-of-squared-distance\n",
    "wcss = []\n",
    "\n",
    "# looping over number of clusters and storing wcss\n",
    "for k in range(0, 10):\n",
    "  kmeans = KMeans(n_clusters=k+1, random_state=0).fit(df_rfm[['R', 'F', 'M']])\n",
    "  wcss.append(kmeans.inertia_)\n",
    "\n",
    "# plotting the wcss wrt cluster numbers\n",
    "plt.figure(figsize=(15,8))\n",
    "ax = sns.pointplot(x=list(range(1, 11)), y=wcss)\n",
    "ax.set_title('K-Means Clustering\\nNumber of Clusters vs Within Cluster Sum of Squares')\n",
    "ax.set_xlabel('Number of Clusters')\n",
    "ax.set_ylabel('Within Cluster Sum of Squares')\n",
    "plt.show()\n"
   ]
  },
  {
   "cell_type": "code",
   "execution_count": null,
   "id": "10dfffcd",
   "metadata": {},
   "outputs": [],
   "source": [
    "plt.figure(figsize = (12,6))\n",
    "\n",
    "plt.plot(K_range, wcss, marker='o')\n",
    "plt.title('The Elbow Method')\n",
    "plt.xlabel('Number of clusters')\n",
    "plt.ylabel('WCSS')\n",
    "plt.xticks(K_range)\n",
    "plt.show()\n"
   ]
  },
  {
   "cell_type": "code",
   "execution_count": null,
   "id": "30667c72",
   "metadata": {},
   "outputs": [],
   "source": [
    "kmeans = KMeans(n_clusters = 4, init='k-means++', n_init =10,max_iter = 300)\n",
    "kmeans.fit(data_scaled)\n",
    "cluster = kmeans.predict(data_scaled)\n"
   ]
  },
  {
   "cell_type": "code",
   "execution_count": null,
   "id": "45f01374",
   "metadata": {},
   "outputs": [],
   "source": [
    "K_range = range(2,10)\n",
    "sil_score = []\n",
    "for i in K_range:\n",
    "    kmeans2 = KMeans(n_clusters = i, init = 'k-means++', random_state = 0)\n",
    "    labels = kmeans2.fit(data_scaled).labels_\n",
    "    sil_score.append(silhouette_score(data_scaled, labels))\n"
   ]
  },
  {
   "cell_type": "code",
   "execution_count": null,
   "id": "2152cdd9",
   "metadata": {},
   "outputs": [],
   "source": [
    "plt.figure(figsize = (12,6))\n",
    "\n",
    "plt.plot(K_range, sil_score , marker='o')\n",
    "plt.title('Mean Silhouette Coefficient over K')\n",
    "plt.xlabel('Number of clusters')\n",
    "plt.ylabel('Silhoutte Score')\n",
    "plt.xticks(K_range)\n",
    "plt.show()\n"
   ]
  },
  {
   "cell_type": "code",
   "execution_count": null,
   "id": "47ca9b06",
   "metadata": {},
   "outputs": [],
   "source": [
    "fig, ax = plt.subplots(3, 2, figsize=(15,15))\n",
    "for i in range(2,8):\n",
    "    km = KMeans(n_clusters=i, init='k-means++', random_state=42)\n",
    "    # use divmod method to specify ax for our plots\n",
    "    q, mod = divmod(i, 2)\n",
    "  \n",
    "    # Create SilhouetteVisualizer instance with KMeans instance\n",
    "    visualizer = SilhouetteVisualizer(km, colors='yellowbrick', ax=ax[q-1][mod])\n",
    "    # Fit the visualizer\n",
    "    visualizer.fit(data_scaled)\n"
   ]
  },
  {
   "cell_type": "code",
   "execution_count": null,
   "id": "34baf646",
   "metadata": {},
   "outputs": [],
   "source": [
    "kmeans = KMeans(n_clusters=3, init='k-means++', random_state=0)\n",
    "clusters = kmeans.fit_predict(data_scaled)\n",
    "clusters.shape\n"
   ]
  },
  {
   "cell_type": "code",
   "execution_count": null,
   "id": "590c635a",
   "metadata": {},
   "outputs": [],
   "source": [
    "# reducing number of features to 2 using principal component analysis\n",
    "pca = PCA(n_components=2)\n",
    "principal_comp = pca.fit_transform(data_scaled)\n",
    "principal_comp\n"
   ]
  },
  {
   "cell_type": "code",
   "execution_count": null,
   "id": "3981e127",
   "metadata": {},
   "outputs": [],
   "source": [
    "# Create a dataframe with the two components\n",
    "pca_df = pd.DataFrame(data = principal_comp, columns =['pca1','pca2'])\n",
    "pca_df.head()\n"
   ]
  },
  {
   "cell_type": "code",
   "execution_count": null,
   "id": "0d91b918",
   "metadata": {},
   "outputs": [],
   "source": [
    "# Concatenate the clusters labels to the datafram\n",
    "pca_cluster_df = pd.concat([pca_df, pd.DataFrame({'clusters': clusters})], axis=1)\n",
    "pca_cluster_df\n"
   ]
  },
  {
   "cell_type": "code",
   "execution_count": null,
   "id": "2e9c9f5a",
   "metadata": {},
   "outputs": [],
   "source": [
    "plt.figure(figsize=(15,10))\n",
    "sns.scatterplot(x='pca1', y='pca2', hue = 'clusters', data = pca_cluster_df,\n",
    "                palette =['red','green','blue'], s=100)\n",
    "plt.legend(fontsize=12)\n",
    "plt.show()"
   ]
  },
  {
   "cell_type": "code",
   "execution_count": null,
   "id": "cce8b8a8",
   "metadata": {},
   "outputs": [],
   "source": [
    "# concatenate clusters to the original dataframe\n",
    "data_cluster = pd.concat([data_process.reset_index(), pd.DataFrame({'Clusters': clusters})], axis=1)\n"
   ]
  },
  {
   "cell_type": "code",
   "execution_count": null,
   "id": "438088f1",
   "metadata": {},
   "outputs": [],
   "source": [
    "# Plot the histogram of various clusters\n",
    "for i in final_df:\n",
    "  plt.figure(figsize = (24, 5))\n",
    "  for j in range(3):\n",
    "    plt.subplot(1,3,j+1)\n",
    "    cluster = data_cluster[data_cluster['Clusters'] == j]\n",
    "    cluster[i].hist(bins=20)\n",
    "    plt.title(f'{i} \\n Cluster {j}')\n",
    "  \n",
    "  plt.show()"
   ]
  },
  {
   "cell_type": "code",
   "execution_count": null,
   "id": "b94addee",
   "metadata": {},
   "outputs": [],
   "source": [
    "sns.pairplot(data_cluster, hue='Clusters', x_vars=['Recency', 'Frequency', 'MonetaryValue'],\n",
    "            y_vars=['Clusters'], height=5)\n",
    "plt.show()\n"
   ]
  },
  {
   "cell_type": "code",
   "execution_count": null,
   "id": "c7f61c6d",
   "metadata": {},
   "outputs": [],
   "source": [
    "# Create RFM dataframe for each customer:\n",
    "\n",
    "rfm.columns = ['Recency', 'Frequency', 'Monetary']\n",
    "rfm.head()\n"
   ]
  },
  {
   "cell_type": "code",
   "execution_count": null,
   "id": "bbadd430",
   "metadata": {},
   "outputs": [],
   "source": []
  },
  {
   "cell_type": "code",
   "execution_count": null,
   "id": "d761b7e5",
   "metadata": {},
   "outputs": [],
   "source": []
  },
  {
   "cell_type": "code",
   "execution_count": null,
   "id": "b20173c7",
   "metadata": {},
   "outputs": [],
   "source": [
    "rfm[\"Recency_score\"] = pd.qcut(rfm[\"Recency\"], 5, labels=[1, 2, 3, 4, 5])\n",
    "rfm[\"Frequency_score\"] = pd.qcut(rfm[\"Frequency\"].rank(method=\"first\"), 5, labels=[5, 4, 3, 2, 1])\n",
    "rfm[\"Monetary_score\"] = pd.qcut(rfm[\"Monetary\"], 5, labels=[5, 4, 3, 2, 1])\n",
    "rfm[\"RFM_SCORE\"] = rfm[\"Recency_score\"].astype(str) + rfm[\"Frequency_score\"].astype(str)+ rfm[\"Monetary_score\"].astype(str)\n",
    "rfm.head()\n"
   ]
  },
  {
   "cell_type": "code",
   "execution_count": null,
   "id": "3396773a",
   "metadata": {},
   "outputs": [],
   "source": [
    "#Apriori Market Basket"
   ]
  },
  {
   "cell_type": "code",
   "execution_count": null,
   "id": "ef4413ab",
   "metadata": {},
   "outputs": [],
   "source": [
    "basket_France = (online_Retail[online_Retail['Country'] ==\"France\"]\n",
    "          .groupby(['InvoiceNo', 'Description'])['Quantity']\n",
    "          .sum().unstack().reset_index().fillna(0)\n",
    "          .set_index('InvoiceNo'))\n",
    "  \n",
    "# Transactions done in the United Kingdom\n",
    "basket_UK = (online_Retail[online_Retail['Country'] ==\"United Kingdom\"]\n",
    "          .groupby(['InvoiceNo', 'Description'])['Quantity']\n",
    "          .sum().unstack().reset_index().fillna(0)\n",
    "          .set_index('InvoiceNo'))\n",
    "  \n",
    "# Transactions done in Portugal\n",
    "basket_Por = (online_Retail[online_Retail['Country'] ==\"Portugal\"]\n",
    "          .groupby(['InvoiceNo', 'Description'])['Quantity']\n",
    "          .sum().unstack().reset_index().fillna(0)\n",
    "          .set_index('InvoiceNo'))\n",
    "  \n",
    "basket_Sweden = (online_Retail[online_Retail['Country'] ==\"Sweden\"]\n",
    "          .groupby(['InvoiceNo', 'Description'])['Quantity']\n",
    "          .sum().unstack().reset_index().fillna(0)\n",
    "          .set_index('InvoiceNo'))\n"
   ]
  },
  {
   "cell_type": "code",
   "execution_count": null,
   "id": "61e1ac12",
   "metadata": {},
   "outputs": [],
   "source": [
    "def hot_encode(x):\n",
    "    if(x<= 0):\n",
    "        return 0\n",
    "    if(x>= 1):\n",
    "        return 1\n",
    "  \n",
    "# Encoding the datasets\n",
    "basket_encoded = basket_France.applymap(hot_encode)\n",
    "basket_France = basket_encoded\n",
    "  \n",
    "basket_encoded = basket_UK.applymap(hot_encode)\n",
    "basket_UK = basket_encoded\n",
    "  \n",
    "basket_encoded = basket_Por.applymap(hot_encode)\n",
    "basket_Por = basket_encoded\n",
    "  \n",
    "basket_encoded = basket_Sweden.applymap(hot_encode)\n",
    "basket_Sweden = basket_encoded\n"
   ]
  },
  {
   "cell_type": "code",
   "execution_count": null,
   "id": "913f5e8a",
   "metadata": {},
   "outputs": [],
   "source": [
    "frq_items = apriori(basket_France, min_support = 0.05, use_colnames = True)\n",
    "  \n",
    "# Collecting the inferred rules in a dataframe\n",
    "rules = association_rules(frq_items, metric =\"lift\", min_threshold = 1)\n",
    "rules = rules.sort_values(['confidence', 'lift'], ascending =[False, False])\n",
    "print(rules.head())\n"
   ]
  },
  {
   "cell_type": "code",
   "execution_count": null,
   "id": "222ff2d1",
   "metadata": {},
   "outputs": [],
   "source": [
    "frq_items = apriori(basket_UK, min_support = 0.01, use_colnames = True)\n",
    "rules = association_rules(frq_items, metric =\"lift\", min_threshold = 1)\n",
    "rules = rules.sort_values(['confidence', 'lift'], ascending =[False, False])\n",
    "print(rules.head())"
   ]
  },
  {
   "cell_type": "code",
   "execution_count": null,
   "id": "d3ca2161",
   "metadata": {},
   "outputs": [],
   "source": [
    "frq_items = apriori(basket_Por, min_support = 0.05, use_colnames = True)\n",
    "rules = association_rules(frq_items, metric =\"lift\", min_threshold = 1)\n",
    "rules = rules.sort_values(['confidence', 'lift'], ascending =[False, False])\n",
    "print(rules.head())\n"
   ]
  },
  {
   "cell_type": "code",
   "execution_count": null,
   "id": "f7b09774",
   "metadata": {},
   "outputs": [],
   "source": [
    "\n",
    "frq_items = apriori(basket_Sweden, min_support = 0.05, use_colnames = True)\n",
    "rules = association_rules(frq_items, metric =\"lift\", min_threshold = 1)\n",
    "rules = rules.sort_values(['confidence', 'lift'], ascending =[False, False])\n",
    "print(rules.head())"
   ]
  },
  {
   "cell_type": "code",
   "execution_count": null,
   "id": "5bceba9c",
   "metadata": {},
   "outputs": [],
   "source": []
  },
  {
   "cell_type": "code",
   "execution_count": null,
   "id": "385e9f36",
   "metadata": {},
   "outputs": [],
   "source": [
    "import datetime as dt\n"
   ]
  },
  {
   "cell_type": "code",
   "execution_count": null,
   "id": "d61d6362",
   "metadata": {},
   "outputs": [],
   "source": [
    "#Cohort Analysis"
   ]
  },
  {
   "cell_type": "code",
   "execution_count": null,
   "id": "1f267881",
   "metadata": {},
   "outputs": [],
   "source": [
    "def get_month(x): \n",
    "    \"\"\"\n",
    "    Returns parsed date (YYYY-MM-01)\n",
    "\n",
    "    Parameters\n",
    "    ----------\n",
    "    x: array of dates\n",
    "    \"\"\"\n",
    "    return dt.datetime(x.year, x.month, 1) \n"
   ]
  },
  {
   "cell_type": "code",
   "execution_count": null,
   "id": "3192790d",
   "metadata": {},
   "outputs": [],
   "source": [
    "# InvoiceDay column\n",
    "online_Retail['InvoiceMonth'] = online_Retail['InvoiceDate'].apply(get_month) \n",
    "\n",
    "# Grouping by CustomerID and selecting the InvoiceDay value\n",
    "grouping = online_Retail.groupby('CustomerID')['InvoiceMonth'] \n",
    "\n",
    "# Assigning a minimum InvoiceDay value to the dataset\n",
    "online_Retail['CohortMonth'] = grouping.transform('min')\n",
    "\n"
   ]
  },
  {
   "cell_type": "code",
   "execution_count": null,
   "id": "c31e5a69",
   "metadata": {},
   "outputs": [],
   "source": [
    "online_Retail.head()\n"
   ]
  },
  {
   "cell_type": "code",
   "execution_count": null,
   "id": "fea52048",
   "metadata": {},
   "outputs": [],
   "source": [
    "def get_date_int(df, column):\n",
    "    \"\"\"Extract year, month, and day integer values\n",
    "        \n",
    "    Args:\n",
    "        arg_1 (df):\n",
    "        arg_2 (str): column name with datetime values\n",
    "    \n",
    "    Returns:\n",
    "        int(year), int(months), int(days)\n",
    "    \"\"\"\n",
    "    year = df[column].dt.year\n",
    "    month = df[column].dt.month\n",
    "    day = df[column].dt.day\n",
    "    \n",
    "    return year, month, day\n"
   ]
  },
  {
   "cell_type": "code",
   "execution_count": null,
   "id": "512558ad",
   "metadata": {},
   "outputs": [],
   "source": [
    "# Get the integers for date parts from the `InvoiceDay` column\n",
    "invoice_year, invoice_month, invoice_day = get_date_int(online_Retail, 'InvoiceMonth')\n",
    "\n",
    "# Get the integers for date parts from the `CohortDay` column\n",
    "cohort_year, cohort_month, cohort_day = get_date_int(online_Retail, 'CohortMonth')\n"
   ]
  },
  {
   "cell_type": "code",
   "execution_count": null,
   "id": "f48c2295",
   "metadata": {},
   "outputs": [],
   "source": [
    "# Difference in years between the moment of the invoice and the moment the cohort was created \n",
    "years_diff =  invoice_year - cohort_year\n",
    "\n",
    "# Calculate difference in months between the moment of the invoice and the moment the cohort was created \n",
    "months_diff = invoice_month - cohort_month\n",
    "\n",
    "\n",
    "# Extract the difference in months from all previous values and\n",
    "# Assign the monthly time offset to each transaction\n",
    "online_Retail['CohortIndex'] = years_diff * 12 + months_diff + 1\n",
    "online_Retail.head(3)"
   ]
  },
  {
   "cell_type": "code",
   "execution_count": null,
   "id": "b49bae55",
   "metadata": {},
   "outputs": [],
   "source": [
    "grouping = online_Retail.groupby(['CohortMonth','CohortIndex'])\n",
    "\n",
    "# Number of unique values per customer ID\n",
    "cohort_data = grouping['CustomerID'].apply(pd.Series.nunique).reset_index()\n",
    "\n",
    "cohort_data['CohortMonth'] = cohort_data.CohortMonth.dt.date\n",
    "\n",
    "retention = cohort_data.pivot(index='CohortMonth', \n",
    "                                  columns='CohortIndex', \n",
    "                                  values='CustomerID')\n",
    "\n",
    "# First column stored as cohort_sizes\n",
    "cohort_sizes = retention.iloc[:,0]\n",
    "\n",
    "# Divide the cohort count by cohort sizes along the rows\n",
    "retention = retention.divide(cohort_sizes, axis=0).round(3)\n"
   ]
  },
  {
   "cell_type": "code",
   "execution_count": null,
   "id": "e2c38cf5",
   "metadata": {},
   "outputs": [],
   "source": [
    "retention.head(10)"
   ]
  },
  {
   "cell_type": "code",
   "execution_count": null,
   "id": "deb2bfb9",
   "metadata": {},
   "outputs": [],
   "source": [
    "cohort_sizes.head(10)"
   ]
  },
  {
   "cell_type": "code",
   "execution_count": null,
   "id": "0971e3f3",
   "metadata": {},
   "outputs": [],
   "source": [
    "plt.figure(figsize=(12, 8))\n",
    "plt.title('MONTHLY ACQUISITION COHORT\\n')\n",
    "sns.heatmap(data=cohort_counts, annot=True, cmap='Blues', fmt='.0f', vmin=50, vmax=500);\n",
    "print()\n"
   ]
  },
  {
   "cell_type": "code",
   "execution_count": null,
   "id": "c70f1b79",
   "metadata": {},
   "outputs": [],
   "source": [
    "retention.head(10)"
   ]
  },
  {
   "cell_type": "code",
   "execution_count": null,
   "id": "b30980aa",
   "metadata": {},
   "outputs": [],
   "source": [
    "plt.figure(figsize=(12, 8))\n",
    "plt.title('MONTHLY RETENTION RATE (%)\\n')\n",
    "sns.heatmap(data=retention, annot=True, cmap='Blues', fmt='.0f', vmin=10, vmax=50);\n",
    "print()\n"
   ]
  },
  {
   "cell_type": "code",
   "execution_count": null,
   "id": "dc641d11",
   "metadata": {},
   "outputs": [],
   "source": [
    "# Churn Rate\n",
    "churn = 100 - retention\n",
    "\n",
    "plt.figure(figsize=(12, 8))\n",
    "plt.title('MONTHLY CHURN RATE\\n')\n",
    "sns.heatmap(data=churn, annot=True, cmap='Blues', fmt='.0f', vmin=50, vmax=90);\n"
   ]
  },
  {
   "cell_type": "code",
   "execution_count": null,
   "id": "6c5f192a",
   "metadata": {},
   "outputs": [],
   "source": [
    "grouping = online_Retail.groupby(['CohortMonth', 'CohortIndex']) \n",
    "\n",
    "# Average amount spent by monthly cohort\n",
    "cohort_data = grouping['Amount'].mean().reset_index()\n",
    "\n",
    "cohort_data['CohortMonth'] = cohort_data.CohortMonth.dt.date\n",
    "\n",
    "average_spent = cohort_data.pivot(index='CohortMonth', columns='CohortIndex', values='Amount')\n",
    "\n",
    "plt.figure(figsize=(12, 8))\n",
    "plt.title('AVERAGE ORDER VALUE ($)\\n')\n",
    "sns.heatmap(data=average_spent, annot=True, cmap='BuPu', fmt='.1f', vmin=10, vmax=30);\n"
   ]
  },
  {
   "cell_type": "code",
   "execution_count": null,
   "id": "cea0d947",
   "metadata": {},
   "outputs": [],
   "source": [
    "# Average quantity by monthly cohort\n",
    "cohort_data = grouping['Quantity'].mean().reset_index()\n",
    "\n",
    "cohort_data['CohortMonth'] = cohort_data.CohortMonth.dt.date\n",
    " \n",
    "average_quantity = cohort_data.pivot(index='CohortMonth', columns='CohortIndex', values='Quantity')\n",
    "\n",
    "plt.figure(figsize=(12, 8))\n",
    "plt.title('AVERAGE QUANTITY ORDER BY MONTHLY COHORTS\\n')\n",
    "sns.heatmap(data=average_quantity, annot=True, cmap='Blues', fmt='.1f');\n"
   ]
  },
  {
   "cell_type": "code",
   "execution_count": null,
   "id": "451a3de0",
   "metadata": {},
   "outputs": [],
   "source": [
    "# Average of the unit price \n",
    "cohort_data = grouping['UnitPrice'].mean().reset_index()\n",
    "\n",
    "cohort_data['CohortMonth'] = cohort_data.CohortMonth.dt.date\n",
    "\n",
    "# Create a pivot \n",
    "average_price = cohort_data.pivot(index='CohortMonth', columns='CohortIndex', values='UnitPrice')\n",
    "\n",
    "plt.figure(figsize=(12, 8))\n",
    "plt.title('AVERAGE UNIT PRICE BY MONTHLY COHORTS\\n')\n",
    "sns.heatmap(data=average_price, annot=True, cmap='Greens', fmt='.2f');\n"
   ]
  },
  {
   "cell_type": "code",
   "execution_count": null,
   "id": "f67c7b2e",
   "metadata": {},
   "outputs": [],
   "source": [
    "# Mean retention rate \n",
    "retention_rate = retention.iloc[:,1:].mean().mean()\n",
    "\n",
    "# Mean churn rate\n",
    "churn_rate = churn.iloc[:,1:].mean().mean()\n",
    "\n",
    "print(f'Average retention rate: {retention_rate:.1f}%\\nAverage churn rate: {churn_rate:.1f}%')\n"
   ]
  },
  {
   "cell_type": "code",
   "execution_count": null,
   "id": "ccf51093",
   "metadata": {},
   "outputs": [],
   "source": [
    "df_UK = online_Retail[online_Retail['Country'] == \"United Kingdom\"]\n",
    "df_UK.head()\n"
   ]
  },
  {
   "cell_type": "code",
   "execution_count": null,
   "id": "318675a3",
   "metadata": {},
   "outputs": [],
   "source": [
    "temp=['CustomerID', 'Quantity', 'InvoiceDate', 'Total_Sales']\n",
    "RFM_data=df_UK[temp]\n",
    "RFM_data.shape\n"
   ]
  },
  {
   "cell_type": "code",
   "execution_count": null,
   "id": "4ce7aaf5",
   "metadata": {},
   "outputs": [],
   "source": [
    "NOW = dt.datetime(2011,12,10)\n",
    "#Convert ORDERDATE to datetime format.\n",
    "RFM_data['InvoiceDate'] = pd.to_datetime(RFM_data['InvoiceDate'])\n",
    "# RFM Table\n",
    "\n",
    "\n",
    "RFM_table = RFM_data.groupby(['CustomerID']).agg({\n",
    "    'InvoiceDate': lambda x: (NOW  - x.max()).days,\n",
    "    'InvoiceNo': 'count',\n",
    "    'Total_Sales': 'sum'})\n",
    "# Rename columns\n",
    "\n",
    "RFM_table['InvoiceDate'] = RFM_table['InvoiceDate'].astype(int)\n",
    "\n",
    "RFM_table.rename(columns={'InvoiceDate': 'Recency', \n",
    "                         'Quantity': 'Frequency',\n",
    "                         'Total_Sales': 'Monetary_value'}, inplace=True)\n",
    "RFM_table.head()\n"
   ]
  },
  {
   "cell_type": "code",
   "execution_count": null,
   "id": "5ac3ed02",
   "metadata": {},
   "outputs": [],
   "source": [
    "# we use for loop to plot the probability density curve for each feature separately\n",
    "\n",
    "plt.figure(figsize=(10,10))\n",
    "for i in range(len(RFM_table.columns)):\n",
    "  plt.subplot(3,1,i+1)\n",
    "  sns.distplot(RFM_table[RFM_table.columns[i]])\n",
    "  plt.title(RFM_table.columns[i])\n",
    "plt.tight_layout()"
   ]
  },
  {
   "cell_type": "code",
   "execution_count": null,
   "id": "9cde762d",
   "metadata": {},
   "outputs": [],
   "source": [
    "RFM_table.skew(axis=0)\n"
   ]
  },
  {
   "cell_type": "code",
   "execution_count": null,
   "id": "da9eef0d",
   "metadata": {},
   "outputs": [],
   "source": [
    "from scipy import stats\n",
    "from sklearn.decomposition import PCA\n",
    "\n",
    "box_re = stats.boxcox(RFM_table['Recency'])[0]\n",
    "box_fre = stats.boxcox(RFM_table['Frequency'])[0]\n"
   ]
  },
  {
   "cell_type": "code",
   "execution_count": null,
   "id": "08f315bf",
   "metadata": {},
   "outputs": [],
   "source": [
    "log_re = np.log(RfM_table['Recency'])\n",
    "log_fre = np.log(RfM_table['Frequency'])\n"
   ]
  },
  {
   "cell_type": "code",
   "execution_count": null,
   "id": "eddc9a58",
   "metadata": {},
   "outputs": [],
   "source": [
    "fig = plt.figure(figsize=(15,20))\n",
    "ax0 = fig.add_subplot(321)\n",
    "ax1 = fig.add_subplot(322)\n",
    "ax2 = fig.add_subplot(323)\n",
    "ax3 = fig.add_subplot(324)\n",
    "ax4 = fig.add_subplot(325)\n",
    "ax5 = fig.add_subplot(326)\n",
    "\n",
    "sns.distplot(RfM_table['Recency'], ax=ax0)\n",
    "sns.distplot(box_re, ax=ax2)\n",
    "sns.distplot(log_re, ax=ax4)\n",
    "sns.distplot(RfM_table['Frequency'], ax=ax1)\n",
    "sns.distplot(box_fre, ax=ax3)\n",
    "sns.distplot(log_fre, ax=ax5)\n",
    "\n",
    "ax0.set_title('Original Recency Distribution')\n",
    "ax1.set_title('Original Frequency Distribution')\n",
    "ax2.set_title('Box-Cox Distribution')\n",
    "ax3.set_title('Box-Cox Distribution')\n",
    "ax4.set_title('Logarithmic Distribution')\n",
    "ax5.set_title('Logarithmic Distribution')\n",
    "\n",
    "plt.show()\n"
   ]
  },
  {
   "cell_type": "code",
   "execution_count": null,
   "id": "b178a3d6",
   "metadata": {},
   "outputs": [],
   "source": [
    "cb_MV = np.cbrt(RFM_table['Monetary_value']).values\n"
   ]
  },
  {
   "cell_type": "code",
   "execution_count": null,
   "id": "92cdb4ee",
   "metadata": {},
   "outputs": [],
   "source": [
    "cb_MV = np.cbrt(RFM_table['Monetary_value']).values\n",
    "fig = plt.figure(figsize=(20,6))\n",
    "ax0 = fig.add_subplot(121)\n",
    "ax1 = fig.add_subplot(122)\n",
    "sns.kdeplot(RFM_table['Monetary_value'], ax=ax0)\n",
    "sns.kdeplot(cb_MV, ax=ax1)\n",
    "\n",
    "plt.show()"
   ]
  },
  {
   "cell_type": "code",
   "execution_count": null,
   "id": "fbb45d6e",
   "metadata": {},
   "outputs": [],
   "source": [
    "RFM_table[RFM_table['monetary_value']<0]\n"
   ]
  },
  {
   "cell_type": "code",
   "execution_count": null,
   "id": "2fce763e",
   "metadata": {},
   "outputs": [],
   "source": [
    "final_df = pd.DataFrame({'Recency': box_re, \n",
    "                         'Frequency': box_fre, \n",
    "                          'MonetaryValue': cb_MV})\n",
    "final_df.head()"
   ]
  },
  {
   "cell_type": "code",
   "execution_count": null,
   "id": "c9d2dde9",
   "metadata": {},
   "outputs": [],
   "source": [
    "final_df.skew()\n"
   ]
  },
  {
   "cell_type": "code",
   "execution_count": null,
   "id": "cef53da9",
   "metadata": {},
   "outputs": [],
   "source": [
    "# CLTV = (Customer_Value / Churn_Rate) x Profit_margin.\n",
    "# Customer_Value = Average_Order_Value * Purchase_Frequency\n",
    "# Average_Order_Value = Total_Revenue / Total_Number_of_Orders\n",
    "# Purchase_Frequency =  Total_Number_of_Orders / Total_Number_of_Customers\n",
    "# Churn_Rate = 1 - Repeat_Rate\n",
    "# Profit_margin\n"
   ]
  },
  {
   "cell_type": "code",
   "execution_count": null,
   "id": "e7314584",
   "metadata": {},
   "outputs": [],
   "source": [
    "quantiles = RFM_table.quantile(q=[0.25,0.5,0.75])\n",
    "quantiles\n"
   ]
  },
  {
   "cell_type": "code",
   "execution_count": null,
   "id": "846e1a6a",
   "metadata": {},
   "outputs": [],
   "source": [
    "#RFM score values \n",
    "RFM_table['RecencyScore'] = pd.qcut(RFM_table['Recency'],5,labels=[5,4,3,2,1])\n",
    "RFM_table['FrequencyScore'] = pd.qcut(RFM_table['Frequency'].rank(method=\"first\"),5,labels=[1,2,3,4,5])\n",
    "RFM_table['MonetaryScore'] = pd.qcut(RFM_table['Monetary_value'],5,labels=[1,2,3,4,5])\n"
   ]
  },
  {
   "cell_type": "code",
   "execution_count": null,
   "id": "4fceda76",
   "metadata": {},
   "outputs": [],
   "source": [
    "#RFM score values are combined side by side in str format\n",
    "(RFM_table['RecencyScore'].astype(str) + \n",
    " RFM_table['FrequencyScore'].astype(str) + \n",
    " RFM_table['MonetaryScore'].astype(str)).head()\n"
   ]
  },
  {
   "cell_type": "code",
   "execution_count": null,
   "id": "ae8b0977",
   "metadata": {},
   "outputs": [],
   "source": [
    "#calculation of the RFM score\n",
    "RFM_table[\"RFM_SCORE\"] = rfm_table['RecencyScore'].astype(str) + rfm_table['FrequencyScore'].astype(str) + rfm_table['MonetaryScore'].astype(str)\n"
   ]
  },
  {
   "cell_type": "code",
   "execution_count": null,
   "id": "63bff39b",
   "metadata": {},
   "outputs": [],
   "source": [
    "#transposition of the RFM table. This makes it easier to evaluate.\n",
    "RFM_table.describe().T\n"
   ]
  },
  {
   "cell_type": "code",
   "execution_count": null,
   "id": "f3c477aa",
   "metadata": {},
   "outputs": [],
   "source": [
    "#customers with RFM Score 555\n",
    "RFM_table[RFM_table[\"RFM_SCORE\"] == \"555\"].head()\n"
   ]
  },
  {
   "cell_type": "code",
   "execution_count": null,
   "id": "e28dcc8f",
   "metadata": {},
   "outputs": [],
   "source": [
    "#customers with RFM Score 111\n",
    "RFM_table[RFM_table[\"RFM_SCORE\"] == \"111\"].head()\n"
   ]
  },
  {
   "cell_type": "code",
   "execution_count": null,
   "id": "9be7abfc",
   "metadata": {},
   "outputs": [],
   "source": [
    "seg_map = {\n",
    "            r'111': 'Champions',\n",
    "            r'113': 'Promising',\n",
    "            r'114': 'Potential Loyalist',\n",
    "            r'144': 'New Customers',\n",
    "            r'312': 'Loyal Customers',\n",
    "            r'442': 'Can not loose them',\n",
    "            r'443': 'Need Attention',\n",
    "            r'552': 'About to Sleep',\n",
    "            r'553': 'Hibernating',\n",
    "            r'554': 'At Risk',\n",
    "            r'555': 'Lost'\n",
    "        }\n",
    "\n",
    "seg_map2 = {\n",
    "        r'[1-5][1-5][1-5]': 'Others_Segment',\n",
    "         }\n",
    "\n",
    "\n"
   ]
  },
  {
   "cell_type": "code",
   "execution_count": null,
   "id": "2ab52c18",
   "metadata": {},
   "outputs": [],
   "source": [
    "#creation of segment variable\n",
    "rfm[\"RFM_Segment\"] = rfm[\"RFM_SCORE\"].replace(seg_map, regex=True)\n",
    "rfm[\"RFM_Segment\"] = rfm[\"RFM_Segment\"].replace(seg_map2, regex=True)\n",
    "rfm.reset_index()\n",
    "rfm.tail()\n"
   ]
  },
  {
   "cell_type": "code",
   "execution_count": null,
   "id": "0766819a",
   "metadata": {},
   "outputs": [],
   "source": [
    "rfm_table[[\"Segment\", \"Recency\",\"Frequency\",\"Monetary\"]].groupby(\"Segment\").agg([\"mean\",\"count\"])\n"
   ]
  },
  {
   "cell_type": "code",
   "execution_count": null,
   "id": "8b8fe093",
   "metadata": {},
   "outputs": [],
   "source": [
    "# import model\n",
    "from sklearn.linear_model import LinearRegression\n",
    "\n",
    "# instantiate\n",
    "linreg = LinearRegression()\n",
    "\n",
    "# fit the model to the training data (learn the coefficients)\n",
    "linreg.fit(X_train, y_train)\n",
    "\n",
    "# make predictions on the testing set\n",
    "y_pred = linreg.predict(X_test)\n"
   ]
  },
  {
   "cell_type": "code",
   "execution_count": null,
   "id": "2fa29555",
   "metadata": {},
   "outputs": [],
   "source": [
    "# print the intercept and coefficients\n",
    "print(linreg.intercept_)\n",
    "print(linreg.coef_)"
   ]
  },
  {
   "cell_type": "code",
   "execution_count": null,
   "id": "c01784dd",
   "metadata": {},
   "outputs": [],
   "source": [
    "from sklearn import metrics\n",
    "\n",
    "# compute the R Square for model\n",
    "print(\"R-Square:\",metrics.r2_score(y_test, y_pred))\n"
   ]
  },
  {
   "cell_type": "code",
   "execution_count": null,
   "id": "e80ed896",
   "metadata": {},
   "outputs": [],
   "source": [
    "# calculate MAE using scikit-learn\n",
    "print(\"MAE:\",metrics.mean_absolute_error(y_test,y_pred))\n",
    "\n",
    "#calculate mean squared error\n",
    "print(\"MSE\",metrics.mean_squared_error(y_test, y_pred))\n",
    "# compute the RMSE of our predictions\n",
    "print(\"RMSE:\",np.sqrt(metrics.mean_squared_error(y_test, y_pred)))\n"
   ]
  },
  {
   "cell_type": "code",
   "execution_count": null,
   "id": "36ce11fe",
   "metadata": {},
   "outputs": [],
   "source": [
    "#Traditional CLV method doens't require to define customer lifespan and instead uses retention to churn rate to access customer life expectancy.\n",
    "#Traditional CLV = Average Revenue * Retention Rate / Churn Rate\n",
    "\n"
   ]
  },
  {
   "cell_type": "code",
   "execution_count": null,
   "id": "0ccd3b33",
   "metadata": {},
   "outputs": [],
   "source": [
    "online_Retail['YearMonth'] = online_Retail['InvoiceDate'].dt.strftime(\"%Y-%m\")\n",
    "online_Retail['YearMonth'] = pd.to_datetime(online_Retail['YearMonth'])\n"
   ]
  },
  {
   "cell_type": "code",
   "execution_count": null,
   "id": "e83212c1",
   "metadata": {},
   "outputs": [],
   "source": [
    "# calculate monthly spend per customer\n",
    "monthly_revenue = online_Retail.groupby(by=['CustomerID', 'YearMonth'])['Total_Sales'].sum().mean()\n",
    "monthly_revenue"
   ]
  },
  {
   "cell_type": "code",
   "execution_count": null,
   "id": "5450af1c",
   "metadata": {},
   "outputs": [],
   "source": [
    "lifespan_months = 36\n",
    "\n"
   ]
  },
  {
   "cell_type": "code",
   "execution_count": null,
   "id": "eb4d7e98",
   "metadata": {},
   "outputs": [],
   "source": [
    "CLV_basic = monthly_revenue * lifespan_months\n",
    "CLV_basic"
   ]
  },
  {
   "cell_type": "code",
   "execution_count": null,
   "id": "01999b1c",
   "metadata": {},
   "outputs": [],
   "source": [
    "#Granular CLV = (Average Revenue per Transaction Average Frequency) Average Lifespan\n",
    "\n"
   ]
  },
  {
   "cell_type": "code",
   "execution_count": null,
   "id": "6762986e",
   "metadata": {},
   "outputs": [],
   "source": [
    "# first mean() averages the revenue per invoice \n",
    "# second mean() averages the revenue per purchase\n",
    "revenue_per_purchase = online_Retail.groupby(by=['InvoiceNo'])['Total_Sales'].mean().mean()\n",
    "revenue_per_purchase\n"
   ]
  },
  {
   "cell_type": "code",
   "execution_count": null,
   "id": "1cc7a111",
   "metadata": {},
   "outputs": [],
   "source": [
    "# calculate average number of unique invoices per customer each month\n",
    "avg_frequency_per_month = online_Retail.groupby(by=['CustomerID', 'YearMonth'])['InvoiceNo'].nunique().mean()\n",
    "avg_frequency_per_month"
   ]
  },
  {
   "cell_type": "code",
   "execution_count": null,
   "id": "76c62731",
   "metadata": {},
   "outputs": [],
   "source": [
    "CLV_granular = revenue_per_purchase * avg_frequency_per_month * lifespan_months\n",
    "CLV_granular"
   ]
  },
  {
   "cell_type": "code",
   "execution_count": null,
   "id": "210b1869",
   "metadata": {},
   "outputs": [],
   "source": [
    "# calculate monthly spend per customer\n",
    "monthly_revenue = online_Retail.groupby(by=['CustomerID', 'YearMonth'])['Total_Sales'].sum().mean()\n",
    "monthly_revenue"
   ]
  },
  {
   "cell_type": "code",
   "execution_count": null,
   "id": "64f51e53",
   "metadata": {},
   "outputs": [],
   "source": [
    "#calculate average retention rate per customer\n",
    "avg_retention = retention.iloc[:, 1:].mean().mean()\n",
    "avg_retention"
   ]
  },
  {
   "cell_type": "code",
   "execution_count": null,
   "id": "08e89fcb",
   "metadata": {},
   "outputs": [],
   "source": [
    "avg_churn = 1 - avg_retention\n",
    "avg_churn"
   ]
  },
  {
   "cell_type": "code",
   "execution_count": null,
   "id": "8de58e07",
   "metadata": {},
   "outputs": [],
   "source": [
    "CLV_traditional = monthly_revenue * (avg_retention/avg_churn)\n",
    "CLV_traditional"
   ]
  },
  {
   "cell_type": "code",
   "execution_count": null,
   "id": "97861aae",
   "metadata": {},
   "outputs": [],
   "source": [
    "print(\"Average CLV: {:.2f} USD at {:.1%} average retention rate and {:.2f} USD average monthly revenue\".format(CLV_traditional, avg_retention, monthly_revenue))\n"
   ]
  },
  {
   "cell_type": "code",
   "execution_count": 22,
   "id": "20a1aa43",
   "metadata": {},
   "outputs": [],
   "source": [
    "online_Retail.to_csv('online_Retail.csv')"
   ]
  }
 ],
 "metadata": {
  "kernelspec": {
   "display_name": "Python 3 (ipykernel)",
   "language": "python",
   "name": "python3"
  },
  "language_info": {
   "codemirror_mode": {
    "name": "ipython",
    "version": 3
   },
   "file_extension": ".py",
   "mimetype": "text/x-python",
   "name": "python",
   "nbconvert_exporter": "python",
   "pygments_lexer": "ipython3",
   "version": "3.9.7"
  }
 },
 "nbformat": 4,
 "nbformat_minor": 5
}
